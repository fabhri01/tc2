{
 "cells": [
  {
   "cell_type": "markdown",
   "id": "af72e49e",
   "metadata": {},
   "source": [
    "# **Sábado 15 de abril, 2023**\n",
    "- Repasé la clase de normalización.\n",
    "- Hice el bonus de la red normalizada de la tarea semanal 1.\n",
    "- Actualicé la tarea semanal y mi registro de estudio en mi git.\n",
    "> Tiempo estimado de estudio hoy: 2hs\n",
    ">> Tiempo estimado de estudio total: 8hs\n",
    "\n",
    "# **Lunes 17 de abril, 2023**\n",
    "- Corregí lo que me dijeron en la TS1.\n",
    "- Hice los 3 puntos de la TS2, el primer bonus y una simulación en LTspice.\n",
    "> Tiempo estimado de estudio hoy: 4hs\n",
    ">> Tiempo estimado de estudio total: 12hs\n",
    "\n",
    "# **Miércoles 19 de abril, 2023**\n",
    "- Miré por encima el ejemplo 4.6 del Schaumann para poder hacer el bonus de la TS2.\n",
    "- Miré rápido los videos de la clase 2 excepto los de sensibilidad para poder hacer el bonus de la TS2.\n",
    "- Acomodé la presentación de la TS2 en Jupyter.\n",
    "> Tiempo estimado de estudio hoy: 4hs\n",
    ">> Tiempo estimado de estudio total: 16hs"
   ]
  }
 ],
 "metadata": {
  "kernelspec": {
   "display_name": "Python 3 (ipykernel)",
   "language": "python",
   "name": "python3"
  },
  "language_info": {
   "codemirror_mode": {
    "name": "ipython",
    "version": 3
   },
   "file_extension": ".py",
   "mimetype": "text/x-python",
   "name": "python",
   "nbconvert_exporter": "python",
   "pygments_lexer": "ipython3",
   "version": "3.10.6"
  }
 },
 "nbformat": 4,
 "nbformat_minor": 5
}
