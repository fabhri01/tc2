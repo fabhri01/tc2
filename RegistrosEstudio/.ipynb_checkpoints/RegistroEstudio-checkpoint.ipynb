{
 "cells": [
  {
   "cell_type": "markdown",
   "id": "45b5554b",
   "metadata": {},
   "source": [
    "## *Prefacio*\n",
    "Bueno, estuve quizás toda la tarde de algunos de estos días formateando toda la computadora porque no conseguí que Ubuntu se instalara correctamente sin darme problemas con Windows. \n",
    "Preparar el entorno de trabajo en Ubuntu me resultó incluso más complicado que en Windows.\n",
    "¿Por qué no elegí directamente trabajar en Windows? Porque el Spyder y las librerías de Python no se llevaban bien\n",
    "y aparte, como las instrucciones indicadas eran para Linux, no me extrañaría que en un futuro hayan más y no quiero\n",
    "estar buscando sus equivalentes en Windows.\n",
    "<div>\n",
    "    <center> <img src=sad-depressed-wojak.gif width=\"350\" height=\"auto\"> </center>\n",
    "</div>    \n",
    "Dicho esto...\n",
    "\n",
    "# ***Lunes 10 de abril, 2023*** \n",
    "Hoy empecé *-sí, tarde-* leyendo los capítulos sugeridos de los libros de la bibliografía y repasando lo visto la primer clase presencial. Planeo mañana tomar apuntes de los vídeos de las clases 1 y 2 para después encarar la tarea semanal.\n",
    "- Leí todo el capítulo 1 del Cogollos y el 1.4 del Schaumann.\n",
    "> Tiempo estimado de estudio hoy: 1h\n",
    "\n",
    "# ***Martes 11 de abril, 2023***\n",
    "Hoy tomaré apuntes de las clases grabadas e intentaré hacer algo más.\n",
    "\n",
    "- Tomé apuntes de la clase 1.\n",
    "- Corrí los ejemplos de la preparación de entorno (solucionando problemas con las librerías en el medio).\n",
    "- Empecé con el trabajo semanal, hice los puntos 1 y 3.\n",
    "> Tiempo estimado de estudio hoy: 4hs\n",
    ">> Tiempo estimado de estudio total: 5hs\n",
    "\n"
   ]
  },
  {
   "cell_type": "code",
   "execution_count": null,
   "id": "8a9fd731",
   "metadata": {},
   "outputs": [],
   "source": []
  },
  {
   "cell_type": "code",
   "execution_count": null,
   "id": "3cd43c7a",
   "metadata": {},
   "outputs": [],
   "source": []
  }
 ],
 "metadata": {
  "kernelspec": {
   "display_name": "Python 3 (ipykernel)",
   "language": "python",
   "name": "python3"
  },
  "language_info": {
   "codemirror_mode": {
    "name": "ipython",
    "version": 3
   },
   "file_extension": ".py",
   "mimetype": "text/x-python",
   "name": "python",
   "nbconvert_exporter": "python",
   "pygments_lexer": "ipython3",
   "version": "3.10.6"
  }
 },
 "nbformat": 4,
 "nbformat_minor": 5
}
