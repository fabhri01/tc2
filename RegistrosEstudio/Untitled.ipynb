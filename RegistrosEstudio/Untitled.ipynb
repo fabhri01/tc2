{
 "cells": [
  {
   "cell_type": "code",
   "execution_count": 1,
   "id": "ab3b5c1b",
   "metadata": {},
   "outputs": [
    {
     "name": "stdout",
     "output_type": "stream",
     "text": [
      "w_p_n = 1, w_s_n = 0.25\n"
     ]
    }
   ],
   "source": [
    "import math as m\n",
    "\n",
    "## Pasa altos Chebyshev\n",
    "\n",
    "w_p = 2*m.pi*4*(10**3)\n",
    "w_s = 2*m.pi*(10**3)\n",
    "\n",
    "w_p_n = 1\n",
    "w_s_n = w_s/w_p\n",
    "\n",
    "print(f'w_p_n = {w_p_n}, w_s_n = {w_s_n}')"
   ]
  },
  {
   "cell_type": "code",
   "execution_count": 3,
   "id": "38b54fa2",
   "metadata": {},
   "outputs": [
    {
     "name": "stdout",
     "output_type": "stream",
     "text": [
      "w_p_lp = 1.0, w_s_lp = 4.0\n"
     ]
    }
   ],
   "source": [
    "w_p_lp = 1/w_p_n\n",
    "w_s_lp = 1/w_s_n\n",
    "\n",
    "print(f'w_p_lp = {w_p_lp}, w_s_lp = {w_s_lp}')"
   ]
  },
  {
   "cell_type": "code",
   "execution_count": null,
   "id": "d9ae3ff0",
   "metadata": {},
   "outputs": [],
   "source": [
    "alpha_max = 3\n",
    "alpha_min = 30\n",
    "\n",
    "epsilon = m.sqrt(m.pow(10, 0.1*alpha_max) - 1)\n"
   ]
  }
 ],
 "metadata": {
  "kernelspec": {
   "display_name": "Python 3 (ipykernel)",
   "language": "python",
   "name": "python3"
  },
  "language_info": {
   "codemirror_mode": {
    "name": "ipython",
    "version": 3
   },
   "file_extension": ".py",
   "mimetype": "text/x-python",
   "name": "python",
   "nbconvert_exporter": "python",
   "pygments_lexer": "ipython3",
   "version": "3.9.7"
  }
 },
 "nbformat": 4,
 "nbformat_minor": 5
}
