{
 "cells": [
  {
   "cell_type": "markdown",
   "id": "af72e49e",
   "metadata": {},
   "source": [
    "# *Sábado 15 de abril, 2023*\n",
    "- Repasé la clase de normalización.\n",
    "- Hice el bonus de la red normalizada de la tarea semanal 1.\n",
    "- Actualicé la tarea semanal y mi registro de estudio en mi git.\n",
    "> Tiempo estimado de estudio hoy: 2hs\n",
    ">> Tiempo estimado de estudio total: 8hs\n"
   ]
  }
 ],
 "metadata": {
  "kernelspec": {
   "display_name": "Python 3 (ipykernel)",
   "language": "python",
   "name": "python3"
  },
  "language_info": {
   "codemirror_mode": {
    "name": "ipython",
    "version": 3
   },
   "file_extension": ".py",
   "mimetype": "text/x-python",
   "name": "python",
   "nbconvert_exporter": "python",
   "pygments_lexer": "ipython3",
   "version": "3.9.7"
  }
 },
 "nbformat": 4,
 "nbformat_minor": 5
}
