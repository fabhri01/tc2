{
 "cells": [
  {
   "cell_type": "markdown",
   "id": "99d786d3",
   "metadata": {},
   "source": [
    "# TRABAJO SEMANAL 2\n",
    "> ## Alumno: Fabrizio Hermosa\n",
    "> ## Materia: Teoría de los circuitos II\n",
    "> ## Curso: R4001"
   ]
  },
  {
   "cell_type": "markdown",
   "id": "fd8f76f0",
   "metadata": {},
   "source": [
    "## *Puntos 1, 2 y 3*\n",
    "A continuación se adjunta el pdf con el desarrollo de los siguientes ítems:\n",
    "- $T(s)= \\frac{V_o}{V_i}$ en función de $ω_o$ y $Q$\n",
    "- Obtener el valor de los componentes tal que $ω_o=1$ y $Q=3$\n",
    "- Ajustar el valor de $R_1$ para que $|T(0)|=20 dB$"
   ]
  },
  {
   "cell_type": "code",
   "execution_count": 1,
   "id": "ad1ed8c8",
   "metadata": {
    "scrolled": false
   },
   "outputs": [
    {
     "data": {
      "text/html": [
       "\n",
       "        <iframe\n",
       "            width=\"900\"\n",
       "            height=\"1000\"\n",
       "            src=\"./TS2_TC2_R4001-FabrizioHermosa.pdf\"\n",
       "            frameborder=\"0\"\n",
       "            allowfullscreen\n",
       "            \n",
       "        ></iframe>\n",
       "        "
      ],
      "text/plain": [
       "<IPython.lib.display.IFrame at 0x7ff4944965f0>"
      ]
     },
     "execution_count": 1,
     "metadata": {},
     "output_type": "execute_result"
    }
   ],
   "source": [
    "from IPython.display import IFrame\n",
    "IFrame(\"./TS2_TC2_R4001-FabrizioHermosa.pdf\", width=900, height=1000)"
   ]
  },
  {
   "cell_type": "markdown",
   "id": "e2748268",
   "metadata": {},
   "source": [
    "## *BONUS*\n",
    "A continuación se adjunta la imagen del desarrollo de los siguientes ítems:\n",
    "- Obtener los valores de la red normalizados en frecuencia e impedancia.\n",
    "- ... \n",
    "- Simulación circuital de todos los experimentos. (Faltarían los demás... tengo que ver las clases)"
   ]
  },
  {
   "cell_type": "code",
   "execution_count": 2,
   "id": "17592e79",
   "metadata": {},
   "outputs": [
    {
     "data": {
      "text/html": [
       "\n",
       "        <iframe\n",
       "            width=\"900\"\n",
       "            height=\"1000\"\n",
       "            src=\"./BonusTS2_TC2_R4001-FabrizioHermosa.pdf\"\n",
       "            frameborder=\"0\"\n",
       "            allowfullscreen\n",
       "            \n",
       "        ></iframe>\n",
       "        "
      ],
      "text/plain": [
       "<IPython.lib.display.IFrame at 0x7ff4944960e0>"
      ]
     },
     "execution_count": 2,
     "metadata": {},
     "output_type": "execute_result"
    }
   ],
   "source": [
    "from IPython.display import IFrame\n",
    "IFrame(\"./BonusTS2_TC2_R4001-FabrizioHermosa.pdf\", width=900, height=1000)"
   ]
  },
  {
   "cell_type": "markdown",
   "id": "9353a409",
   "metadata": {},
   "source": [
    "Para poder simularlo desnormalicé con los siguientes valores:\n",
    "\n",
    "$$ω_o=100\\frac{rad}{seg}, R_3=1kΩ$$\n",
    "\n",
    "Lo que corresponde a los valores a continuación para los componentes del circuito:\n",
    "\n",
    "$$R_1=100Ω, R_2=3kΩ, R_3=1kΩ, R_4=1kΩ, C=10μF$$\n",
    "\n",
    "La siguiente imagen corresponde a la transferencia original que es un pasabajos."
   ]
  },
  {
   "cell_type": "code",
   "execution_count": 3,
   "id": "30b989a7",
   "metadata": {},
   "outputs": [
    {
     "data": {
      "text/html": [
       "\n",
       "        <iframe\n",
       "            width=\"900\"\n",
       "            height=\"900\"\n",
       "            src=\"./Sim_LTspice.png\"\n",
       "            frameborder=\"0\"\n",
       "            allowfullscreen\n",
       "            \n",
       "        ></iframe>\n",
       "        "
      ],
      "text/plain": [
       "<IPython.lib.display.IFrame at 0x7ff494496380>"
      ]
     },
     "execution_count": 3,
     "metadata": {},
     "output_type": "execute_result"
    }
   ],
   "source": [
    "from IPython.display import IFrame\n",
    "IFrame(\"./Sim_LTspice.png\", width=900, height=900)"
   ]
  },
  {
   "cell_type": "code",
   "execution_count": null,
   "id": "d7eaddba",
   "metadata": {},
   "outputs": [],
   "source": []
  }
 ],
 "metadata": {
  "kernelspec": {
   "display_name": "Python 3 (ipykernel)",
   "language": "python",
   "name": "python3"
  },
  "language_info": {
   "codemirror_mode": {
    "name": "ipython",
    "version": 3
   },
   "file_extension": ".py",
   "mimetype": "text/x-python",
   "name": "python",
   "nbconvert_exporter": "python",
   "pygments_lexer": "ipython3",
   "version": "3.10.6"
  }
 },
 "nbformat": 4,
 "nbformat_minor": 5
}
